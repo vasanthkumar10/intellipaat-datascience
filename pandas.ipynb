{
 "cells": [
  {
   "cell_type": "code",
   "execution_count": 2,
   "id": "685ae16b",
   "metadata": {},
   "outputs": [
    {
     "name": "stdout",
     "output_type": "stream",
     "text": [
      "1.4.2\n"
     ]
    }
   ],
   "source": [
    "# Pandas -> more data 500k and use dataframes\n",
    "# numpy -> 50k data and use n-D arrays\n",
    "# cleaning the data -> data munging or data wrangling\n",
    "import pandas as pd\n",
    "print(pd.__version__)"
   ]
  },
  {
   "cell_type": "code",
   "execution_count": 4,
   "id": "f4a97923",
   "metadata": {},
   "outputs": [
    {
     "name": "stdout",
     "output_type": "stream",
     "text": [
      "<class 'pandas.core.frame.DataFrame'>\n"
     ]
    }
   ],
   "source": [
    "cars = pd.read_csv('./mtcars.csv')\n",
    "print(type(cars))"
   ]
  },
  {
   "cell_type": "code",
   "execution_count": 23,
   "id": "967a1f22",
   "metadata": {},
   "outputs": [
    {
     "name": "stdout",
     "output_type": "stream",
     "text": [
      "4694\n",
      "335\n",
      "52\n",
      "146.6875\n",
      "2         Datsun 710\n",
      "7          Merc 240D\n",
      "8           Merc 230\n",
      "17          Fiat 128\n",
      "18       Honda Civic\n",
      "19    Toyota Corolla\n",
      "20     Toyota Corona\n",
      "25         Fiat X1-9\n",
      "26     Porsche 914-2\n",
      "Name: name, dtype: object\n"
     ]
    }
   ],
   "source": [
    "print(cars['hp'].max())\n",
    "print(cars['hp'].min())\n",
    "print(cars['hp'].mean())\n",
    "# print(cars['name'])\n",
    "print(cars['name'][cars['hp'] < 100])\n"
   ]
  },
  {
   "cell_type": "code",
   "execution_count": 41,
   "id": "01474e47",
   "metadata": {},
   "outputs": [
    {
     "name": "stdout",
     "output_type": "stream",
     "text": [
      "146.46666666666667\n",
      "137.3125\n"
     ]
    }
   ],
   "source": [
    "print(cars['hp'].mean())\n",
    "cars.fillna(0, inplace=True)\n",
    "# print(cars)\n",
    "print(cars['hp'].mean())"
   ]
  },
  {
   "cell_type": "code",
   "execution_count": null,
   "id": "b2fff938",
   "metadata": {},
   "outputs": [],
   "source": []
  }
 ],
 "metadata": {
  "kernelspec": {
   "display_name": "Python 3 (ipykernel)",
   "language": "python",
   "name": "python3"
  },
  "language_info": {
   "codemirror_mode": {
    "name": "ipython",
    "version": 3
   },
   "file_extension": ".py",
   "mimetype": "text/x-python",
   "name": "python",
   "nbconvert_exporter": "python",
   "pygments_lexer": "ipython3",
   "version": "3.9.12"
  }
 },
 "nbformat": 4,
 "nbformat_minor": 5
}
