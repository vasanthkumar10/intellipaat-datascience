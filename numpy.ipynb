{
 "cells": [
  {
   "cell_type": "code",
   "execution_count": 1,
   "id": "e5c871c0",
   "metadata": {},
   "outputs": [
    {
     "name": "stdout",
     "output_type": "stream",
     "text": [
      "1.21.5\n"
     ]
    }
   ],
   "source": [
    "import numpy as np\n",
    "# fixed type\n",
    "# applications -> matlab, matplotlib, pandas, ML\n",
    "print(np.__version__)"
   ]
  },
  {
   "cell_type": "code",
   "execution_count": 3,
   "id": "e397274b",
   "metadata": {},
   "outputs": [
    {
     "name": "stdout",
     "output_type": "stream",
     "text": [
      "[1 2 3]\n",
      "(3,)\n",
      "int64\n",
      "1\n",
      "3\n",
      "8\n",
      "sums 6\n",
      "1 2 3\n",
      "3 2 1\n"
     ]
    }
   ],
   "source": [
    "nums = np.array([1, 2, 3])\n",
    "nums = np.array([1, 2, 3], 'int64')\n",
    "\n",
    "print(nums)\n",
    "\n",
    "print(nums.shape)\n",
    "print(nums.dtype)\n",
    "print(nums.ndim)\n",
    "print(nums.size)\n",
    "print(nums.itemsize)\n",
    "print('sums', np.sum(nums))\n",
    "print(nums[0], nums[1], nums[2])\n",
    "print(nums[-1], nums[-2], nums[-3])"
   ]
  },
  {
   "cell_type": "code",
   "execution_count": 80,
   "id": "374d0bd5",
   "metadata": {},
   "outputs": [
    {
     "name": "stdout",
     "output_type": "stream",
     "text": [
      "[[1 2 3]\n",
      " [4 5 6]]\n",
      "(2, 3)\n",
      "int64\n",
      "2\n",
      "6\n",
      "8\n",
      "[1 2 3] [4 5 6]\n",
      "1 2 3\n",
      "3 2 1\n",
      "1 2 3\n",
      "4 5 6\n",
      "6 5 4\n",
      "sums 21\n"
     ]
    }
   ],
   "source": [
    "nums = np.array([\n",
    "    [1, 2, 3],\n",
    "    [4, 5, 6]\n",
    "], 'int64')\n",
    "print(nums)\n",
    "\n",
    "print(nums.shape)\n",
    "print(nums.dtype)\n",
    "print(nums.ndim)\n",
    "print(nums.size)\n",
    "print(nums.itemsize)\n",
    "print(nums[0], nums[1])\n",
    "print(nums[0][0], nums[0][1], nums[0][2])\n",
    "print(nums[0][-1], nums[0][-2], nums[0][-3])\n",
    "# use [,] instead of [][]\n",
    "print(nums[0,0], nums[0,1], nums[0,2])\n",
    "print(nums[1][0], nums[1][1], nums[1][2])\n",
    "print(nums[-1][-1], nums[-1][-2], nums[-1][-3])\n",
    "\n",
    "print('sums', np.sum(nums))"
   ]
  },
  {
   "cell_type": "code",
   "execution_count": 28,
   "id": "fd6b0ae9",
   "metadata": {},
   "outputs": [
    {
     "name": "stdout",
     "output_type": "stream",
     "text": [
      "[[[ 1  2  3]\n",
      "  [11 12 13]]\n",
      "\n",
      " [[ 4  5  6]\n",
      "  [21 22 23]]\n",
      "\n",
      " [[ 7  8  9]\n",
      "  [31 32 33]]]\n",
      "(3, 2, 3)\n",
      "int32\n",
      "3\n",
      "18\n",
      "4\n",
      "1 2 3\n",
      "11 12 13\n",
      "4 5 6\n"
     ]
    }
   ],
   "source": [
    "nums = np.array([\n",
    "    [\n",
    "        [1, 2, 3],\n",
    "        [11, 12, 13],\n",
    "    ],\n",
    "    [\n",
    "        [4, 5, 6],\n",
    "        [21, 22, 23],\n",
    "    ],\n",
    "    [\n",
    "        [7, 8, 9],\n",
    "        [31, 32, 33],\n",
    "    ]\n",
    "])\n",
    "print(nums)\n",
    "\n",
    "print(nums.shape)\n",
    "print(nums.dtype)\n",
    "print(nums.ndim)\n",
    "print(nums.size)\n",
    "print(nums.itemsize)\n",
    "print(nums[0][0][0], nums[0][0][1], nums[0][0][2])\n",
    "print(nums[0][1][0], nums[0][1][1], nums[0][1][2])\n",
    "print(nums[1][0][0], nums[1][0][1], nums[1][0][2])"
   ]
  },
  {
   "cell_type": "code",
   "execution_count": 163,
   "id": "d6f31304",
   "metadata": {},
   "outputs": [
    {
     "name": "stdout",
     "output_type": "stream",
     "text": [
      "[[0 0 0]\n",
      " [0 0 0]\n",
      " [0 0 0]\n",
      " [0 0 0]\n",
      " [0 0 0]]\n",
      "[[1 1 1]\n",
      " [1 1 1]]\n",
      "[[1 0 0]\n",
      " [0 1 0]\n",
      " [0 0 1]]\n",
      "[[100 100 100]\n",
      " [100 100 100]]\n",
      "[1 2 3] [10 10 10]\n",
      "[1.         1.41421356 1.73205081]\n"
     ]
    }
   ],
   "source": [
    "# Zeros matrix\n",
    "nums = np.zeros((5, 3), 'int64')\n",
    "print(nums)\n",
    "\n",
    "# ones matrix\n",
    "nums = np.ones((2, 3), 'int64')\n",
    "print(nums)\n",
    "\n",
    "# identity matrix\n",
    "nums = np.identity(3, 'int64')\n",
    "print(nums)\n",
    "\n",
    "# full\n",
    "nums = np.full((2, 3), 100)\n",
    "print(nums)\n",
    "\n",
    "# full_like\n",
    "nums = np.array([1, 2, 3])\n",
    "nums2 = np.full_like(nums, 10)\n",
    "print(nums, nums2)\n",
    "\n",
    "# sqrt\n",
    "nums = np.array([1, 2, 3])\n",
    "print(np.sqrt(nums))"
   ]
  },
  {
   "cell_type": "code",
   "execution_count": 48,
   "id": "f8416314",
   "metadata": {},
   "outputs": [
    {
     "name": "stdout",
     "output_type": "stream",
     "text": [
      "[[[1 2 3 4]\n",
      "  [5 6 7 8]]]\n"
     ]
    }
   ],
   "source": [
    "# convert to n dimension\n",
    "arr = np.array([\n",
    "    [1, 2, 3, 4],\n",
    "    [5, 6, 7, 8]\n",
    "], ndmin=3)\n",
    "print(arr)"
   ]
  },
  {
   "cell_type": "code",
   "execution_count": 71,
   "id": "0c29a874",
   "metadata": {},
   "outputs": [
    {
     "name": "stdout",
     "output_type": "stream",
     "text": [
      "[6 7 8]\n",
      "[[ 6  7  8]\n",
      " [ 9 10 11]]\n",
      "[4 3 2]\n",
      "[[ 4  3  2]\n",
      " [ 1  0 -1]]\n",
      "[ 5 10 15]\n",
      "[[ 5 10 15]\n",
      " [20 25 30]]\n",
      "[5.         2.5        1.66666667]\n",
      "[[0.2 0.4 0.6]\n",
      " [0.8 1.  1.2]]\n"
     ]
    }
   ],
   "source": [
    "# matrix addition\n",
    "nums1 = np.array([1, 2, 3])\n",
    "print(5 + nums1)\n",
    "\n",
    "# 2d\n",
    "# matrix addition\n",
    "nums1 = np.array([\n",
    "    [1, 2, 3],\n",
    "    [4, 5, 6]\n",
    "])\n",
    "print(5 + nums1)\n",
    "\n",
    "# matrix subtraction\n",
    "nums1 = np.array([1, 2, 3])\n",
    "print(5 - nums1)\n",
    "\n",
    "# 2d\n",
    "# matrix subtraction\n",
    "nums1 = np.array([\n",
    "    [1, 2, 3],\n",
    "    [4, 5, 6]\n",
    "])\n",
    "print(5 - nums1)\n",
    "\n",
    "# matrix multiplication\n",
    "nums1 = np.array([1, 2, 3])\n",
    "print(5 * nums1)\n",
    "\n",
    "# 2d\n",
    "# matrix multiplication\n",
    "nums1 = np.array([\n",
    "    [1, 2, 3],\n",
    "    [4, 5, 6]\n",
    "])\n",
    "print(nums1 * 5)\n",
    "\n",
    "# matrix division\n",
    "nums1 = np.array([1, 2, 3])\n",
    "print(5 / nums1)\n",
    "\n",
    "# 2d\n",
    "# matrix division\n",
    "nums1 = np.array([\n",
    "    [1, 2, 3],\n",
    "    [4, 5, 6]\n",
    "])\n",
    "print(nums1/5)"
   ]
  },
  {
   "cell_type": "code",
   "execution_count": 77,
   "id": "d938672a",
   "metadata": {},
   "outputs": [
    {
     "name": "stdout",
     "output_type": "stream",
     "text": [
      "[ 4 10 18]\n",
      "[[ 5 12 21]\n",
      " [ 4 10 18]]\n",
      "[[19 25 31]\n",
      " [49 64 79]]\n"
     ]
    }
   ],
   "source": [
    "# matrix multiplication\n",
    "# 1d\n",
    "nums1 = np.array([1, 2, 3])\n",
    "nums2 = np.array([4, 5, 6])\n",
    "print(np.multiply(nums1, nums2))\n",
    "\n",
    "# 2d\n",
    "nums1 = np.array([\n",
    "    [1, 2, 3],\n",
    "    [4, 5, 6]\n",
    "])\n",
    "nums2 = np.array([\n",
    "    [5, 6, 7],\n",
    "    [1, 2, 3]\n",
    "])\n",
    "print(np.multiply(nums1, nums2))\n",
    "\n",
    "# 2d with diff shape\n",
    "nums1 = np.array([\n",
    "    [1, 2, 3],\n",
    "    [4, 5, 6]\n",
    "])\n",
    "nums2 = np.array([\n",
    "    [5, 6, 7],\n",
    "    [1, 2, 3],\n",
    "    [4, 5, 6]\n",
    "])\n",
    "# print(np.multiply(nums1, nums2))\n",
    "print(np.dot(nums1, nums2))"
   ]
  },
  {
   "cell_type": "code",
   "execution_count": 171,
   "id": "9ceb08e4",
   "metadata": {},
   "outputs": [
    {
     "name": "stdout",
     "output_type": "stream",
     "text": [
      "[1 2 3] [1 1 1 1 2 2 2 2 3 3 3 3]\n",
      "[[1 1 1 1 2 2 2 2 3 3 3 3]\n",
      " [4 4 4 4 5 5 5 5 6 6 6 6]]\n"
     ]
    }
   ],
   "source": [
    "# repeat array\n",
    "nums = np.array([1, 2, 3])\n",
    "nums2 = np.repeat(nums, 4)\n",
    "print(nums, nums2)\n",
    "\n",
    "# nums2 = np.repeat(nums, 4, axis=1) # error\n",
    "nums = np.array([\n",
    "    [1, 2, 3],\n",
    "    [4, 5, 6]\n",
    "])\n",
    "# nums2 = np.repeat(nums, 4, axis=0)\n",
    "nums2 = np.repeat(nums, 4, axis=1)\n",
    "print(nums2)"
   ]
  },
  {
   "cell_type": "code",
   "execution_count": 84,
   "id": "45696b47",
   "metadata": {},
   "outputs": [
    {
     "name": "stdout",
     "output_type": "stream",
     "text": [
      "32\n",
      "32\n"
     ]
    }
   ],
   "source": [
    "# list vs array\n",
    "l1 = [1, 2, 3]\n",
    "l2 = [4, 5, 6]\n",
    "\n",
    "# dot product\n",
    "dot = 0\n",
    "for i in range(len(l1)):\n",
    "    dot += l1[i] * l2[i]\n",
    "    \n",
    "print(dot)\n",
    "\n",
    "\n",
    "arr1 = np.array([1, 2, 3])\n",
    "arr2 = np.array([4, 5, 6])\n",
    "print(np.dot(arr1, arr2))"
   ]
  },
  {
   "cell_type": "code",
   "execution_count": 162,
   "id": "653c9fc4",
   "metadata": {},
   "outputs": [
    {
     "name": "stdout",
     "output_type": "stream",
     "text": [
      "[[0.91593729 0.35222828 0.51973416]\n",
      " [0.45207694 0.35318079 0.4285277 ]]\n"
     ]
    }
   ],
   "source": [
    "# list -> size, ref count, object type, object value\n",
    "# non contiguous memory\n",
    "# contiguous memory\n",
    "\n",
    "# np.random.uniform(start,stop,(rows,columns))\n",
    "\n",
    "# nums = np.random.uniform(low=2, high=10, size=(2,5))\n",
    "# nums = np.random.randint(low=2, high=10, size=(2,5), dtype='int32')\n",
    "# nums = np.random.rand(2, 3)\n",
    "# print(nums)"
   ]
  },
  {
   "cell_type": "code",
   "execution_count": 88,
   "id": "5c7353dd",
   "metadata": {},
   "outputs": [
    {
     "name": "stdout",
     "output_type": "stream",
     "text": [
      "0.14095290000022942\n",
      "0.0028615999999601627\n"
     ]
    }
   ],
   "source": [
    "# speed test\n",
    "from timeit import default_timer as t\n",
    "\n",
    "a = np.random.random(1000)\n",
    "b = np.random.random(1000)\n",
    "\n",
    "\n",
    "l1 = list(a)\n",
    "l2 = list(b)\n",
    "\n",
    "def find_product():\n",
    "    dot = 0\n",
    "    for i in range(len(l1)):\n",
    "        dot += l1[i] * l2[i]\n",
    "    return dot\n",
    "\n",
    "def find_dot():\n",
    "    return np.dot(a, b)\n",
    "\n",
    "start = t()\n",
    "for i in range(1000):\n",
    "    find_product()\n",
    "end = t()\n",
    "print(end - start)\n",
    "\n",
    "start = t()\n",
    "for i in range(1000):\n",
    "    find_dot()\n",
    "end = t()\n",
    "print(end - start)"
   ]
  },
  {
   "cell_type": "code",
   "execution_count": 141,
   "id": "e4ace925",
   "metadata": {},
   "outputs": [
    {
     "name": "stdout",
     "output_type": "stream",
     "text": [
      "[[ 1  2  3 10 10 10 10  8]\n",
      " [11 12 13 10 10 10 10 18]]\n"
     ]
    }
   ],
   "source": [
    "# Slicing (row, col)\n",
    "nums = np.array([1, 2, 3, 4, 5, 6, 7, 8])\n",
    "\n",
    "# print(nums)\n",
    "# print(nums[:])\n",
    "# print(nums[2:5])\n",
    "# print(nums[2:5:2])\n",
    "# print(nums[-3:-1])\n",
    "# print(nums[-6:-1: 2])\n",
    "\n",
    "\n",
    "nums = np.array([\n",
    "    [1, 2, 3, 4, 5, 6, 7, 8],\n",
    "    [11, 12, 13, 14, 15, 16, 17, 18],\n",
    "])\n",
    "\n",
    "# print(nums)\n",
    "# print(nums[:])\n",
    "# print(nums[:1])\n",
    "# print(nums[:2])\n",
    "# print(nums[0:])\n",
    "# print(nums[1:])\n",
    "\n",
    "# print(nums[:1])\n",
    "# print(nums[:2])\n",
    "# print(nums[0:])\n",
    "# print(nums[1:])\n",
    "\n",
    "# rows and cols\n",
    "# print(nums[0, :])\n",
    "# print(nums[1, :])\n",
    "\n",
    "# print(nums[0, 1:])\n",
    "# print(nums[0, 1:4])\n",
    "# print(nums[0, 1:4:2])\n",
    "\n",
    "# print(nums[, 2:4]) # syntax error\n",
    "\n",
    "# columns\n",
    "# print(nums[:,2])\n",
    "# print(nums[:,4])\n",
    "\n",
    "# print(nums[0:, 4])\n",
    "# print(nums[1:, 4])\n",
    "\n",
    "# print(nums[0:1, 2:8:2])\n",
    "\n",
    "\n",
    "# change values\n",
    "# nums[1,3] = 10\n",
    "# nums[:, 3:7] = 10\n",
    "# print(nums)"
   ]
  },
  {
   "cell_type": "code",
   "execution_count": 174,
   "id": "bfc11b66",
   "metadata": {},
   "outputs": [
    {
     "name": "stdout",
     "output_type": "stream",
     "text": [
      "[1 2 3] [1 2 3]\n",
      "[1 2 3] [10  2  3]\n"
     ]
    }
   ],
   "source": [
    "# copying array\n",
    "arr = np.array([1, 2, 3])\n",
    "copy = arr.copy()\n",
    "print(arr, copy)\n",
    "copy[0] = 10\n",
    "print(arr, copy)"
   ]
  },
  {
   "cell_type": "code",
   "execution_count": 7,
   "id": "bdbdf67a",
   "metadata": {},
   "outputs": [
    {
     "name": "stdout",
     "output_type": "stream",
     "text": [
      "[ 12  76 -61]\n",
      "[1 2 3 4 5 6]\n",
      "[1 2 3 4 5 6]\n",
      "[[1 2]\n",
      " [3 4]\n",
      " [5 6]]\n",
      "[[1 2 3 4 5 6]]\n",
      "[[1 2 3]\n",
      " [4 5 6]]\n"
     ]
    }
   ],
   "source": [
    "# cross product\n",
    "v = np.array([4, 9, 12])\n",
    "s = np.array([21, 32, 44])\n",
    "r = np.cross(v, s)\n",
    "print(r)\n",
    "\n",
    "# reshaping arrays\n",
    "nums = np.array([1, 2, 3, 4,  5, 6])\n",
    "print(nums)\n",
    "\n",
    "changed = nums.reshape(3,2)\n",
    "print(nums)\n",
    "print(changed)\n",
    "\n",
    "changed = nums.reshape(1,6)\n",
    "print(changed)\n",
    "\n",
    "# changed = nums.reshape(2,4)\n",
    "# print(changed)\n",
    "\n",
    "nums = np.array([\n",
    "    [1, 2, 3],\n",
    "    [4, 5, 6]\n",
    "])\n",
    "\n",
    "changed = nums.reshape(2,3)\n",
    "print(changed)"
   ]
  },
  {
   "cell_type": "code",
   "execution_count": 42,
   "id": "2b995692",
   "metadata": {},
   "outputs": [
    {
     "name": "stdout",
     "output_type": "stream",
     "text": [
      "[array([[1, 2, 3, 4],\n",
      "       [4, 5, 6, 8]]),\n",
      " array([], shape=(0, 4), dtype=int32),\n",
      " array([], shape=(0, 4), dtype=int32)]\n"
     ]
    }
   ],
   "source": [
    "# vertical stacking\n",
    "v1 = np.array([1, 2, 3, 4])\n",
    "v2 = np.array([5, 6, 7, 8])\n",
    "\n",
    "# print(np.vstack(v1))\n",
    "# print(np.vstack([v1, v2, v1, v1, v1]))\n",
    "\n",
    "\n",
    "v1 = np.full((2, 2), 10)\n",
    "v2 = np.full((2, 2), 20)\n",
    "# print(v1)\n",
    "# print(v2)\n",
    "\n",
    "# print(np.vstack([v1, v2, v2]))"
   ]
  },
  {
   "cell_type": "code",
   "execution_count": 36,
   "id": "df66fcf2",
   "metadata": {},
   "outputs": [
    {
     "name": "stdout",
     "output_type": "stream",
     "text": [
      "[array([[1, 2],\n",
      "       [4, 5]]),\n",
      " array([[3, 4],\n",
      "       [6, 8]]),\n",
      " array([], shape=(2, 0), dtype=int32)]\n"
     ]
    }
   ],
   "source": [
    "# horizontal stacking\n",
    "h1 = np.array([1, 2, 3, 4])\n",
    "h2 = np.array([5, 6, 7, 8])\n",
    "\n",
    "# print(np.hstack(h1))\n",
    "# print(np.hstack([h1, h2]))\n",
    "\n",
    "\n",
    "h1 = np.full((2, 2), 10)\n",
    "h2 = np.full((2, 2), 20)\n",
    "# print(h1)\n",
    "# print(h2)\n",
    "\n",
    "# print(np.hstack([h1, h2, h2]))\n"
   ]
  },
  {
   "cell_type": "code",
   "execution_count": 66,
   "id": "276363ae",
   "metadata": {},
   "outputs": [
    {
     "name": "stdout",
     "output_type": "stream",
     "text": [
      "[array([[1, 2, 3, 4]]), array([[ 4,  5,  6,  8],\n",
      "       [ 9, 10, 11, 12]]), array([], shape=(0, 4), dtype=int32)]\n",
      "[[1 2 3 4]]\n",
      "[[ 4  5  6  8]\n",
      " [ 9 10 11 12]]\n"
     ]
    }
   ],
   "source": [
    "# splitting\n",
    "\n",
    "nums = np.array([\n",
    "    [1, 2, 3, 4],\n",
    "    [4, 5, 6, 8],\n",
    "    [9, 10, 11, 12]\n",
    "])\n",
    "\n",
    "# print(np.split(nums, 3))\n",
    "# print(np.split(nums, 3)[0])\n",
    "# print(np.split(nums, 3)[1])\n",
    "# print(np.split(nums, [1, 3]))\n",
    "# print(np.split(nums, [1, 3])[0])\n",
    "# print(np.split(nums, [1, 3])[1])\n",
    "\n",
    "\n",
    "# hsplit\n",
    "# print(np.hsplit(nums, 4))\n",
    "# print(np.hsplit(nums, 4)[0])\n",
    "# print(np.hsplit(nums, 4)[1])\n",
    "# print(np.hsplit(nums, 2))\n",
    "# print(np.hsplit(nums, 2)[0])\n",
    "# print(np.hsplit(nums, 2)[1])\n",
    "# print(np.hsplit(nums, [1, 3, 4]))\n",
    "# print(np.hsplit(nums, [1, 3, 4])[0])\n",
    "# print(np.hsplit(nums, [1, 3, 4])[1])\n",
    "# print(np.hsplit(nums, [1, 3, 4])[2])\n",
    "\n",
    "# vsplit\n",
    "# print(np.vsplit(nums, 3))\n",
    "# print(np.vsplit(nums, 3)[0])\n",
    "# print(np.vsplit(nums, 3)[1])\n",
    "# print(np.vsplit(nums, [1, 3]))\n",
    "# print(np.vsplit(nums, [1, 3])[0])\n",
    "# print(np.vsplit(nums, [1, 3])[1])"
   ]
  },
  {
   "cell_type": "code",
   "execution_count": 17,
   "id": "22c0fbb5",
   "metadata": {},
   "outputs": [
    {
     "name": "stdout",
     "output_type": "stream",
     "text": [
      "[[ True  True  True]\n",
      " [ True False False]]\n",
      "[1 2 3 4]\n",
      "[1 2 3 4]\n"
     ]
    }
   ],
   "source": [
    "# comparison operators\n",
    "nums = np.array([\n",
    "    [1, 2, 3],\n",
    "    [4, 5, 6]\n",
    "])\n",
    "\n",
    "# print(nums > 5)\n",
    "# print(nums < 5)\n",
    "# print(nums >= 5)\n",
    "# print(nums <= 5)\n",
    "# print(nums == 5)\n",
    "\n",
    "less_than_5 = nums < 5\n",
    "print(less_than_5)\n",
    "print(nums[less_than_5])\n",
    "print(nums[nums<5])\n",
    "\n",
    "# where\n",
    "nums2 = np.where(nums > 2)"
   ]
  },
  {
   "cell_type": "code",
   "execution_count": 18,
   "id": "6e650360",
   "metadata": {},
   "outputs": [
    {
     "name": "stdout",
     "output_type": "stream",
     "text": [
      "[2 4 6]\n"
     ]
    }
   ],
   "source": [
    "# index filtering\n",
    "nums = np.array([1, 2, 3, 4, 5, 6, 7, 8])\n",
    "index = np.array([1, 3, 5])\n",
    "print(nums[index])"
   ]
  },
  {
   "cell_type": "code",
   "execution_count": 27,
   "id": "ad3c044e",
   "metadata": {},
   "outputs": [
    {
     "name": "stdout",
     "output_type": "stream",
     "text": [
      "[5 7 9]\n",
      "[ 1  2  3  4  5  6  7  8  9 10]\n"
     ]
    }
   ],
   "source": [
    "# arrange -> same as range\n",
    "nums = np.arange(5, 10, 2)\n",
    "print(nums)\n",
    "\n",
    "# linspace\n",
    "nums = np.linspace(1, 10, 10, dtype='int64')\n",
    "print(nums)"
   ]
  },
  {
   "cell_type": "code",
   "execution_count": 3,
   "id": "615bbf9d",
   "metadata": {},
   "outputs": [
    {
     "name": "stdout",
     "output_type": "stream",
     "text": [
      "[[15. 15. 15.]\n",
      " [15. 15. 15.]]\n"
     ]
    }
   ],
   "source": [
    "# linear algebra\n",
    "a = np.ones([2, 3])\n",
    "b = np.full([3,3], 5)\n",
    "print(np.matmul(a,b))"
   ]
  },
  {
   "cell_type": "code",
   "execution_count": 11,
   "id": "bbaffe0e",
   "metadata": {},
   "outputs": [
    {
     "name": "stdout",
     "output_type": "stream",
     "text": [
      "-2.9999999999999996\n"
     ]
    }
   ],
   "source": [
    "# determinant -> ad - bc\n",
    "nums = np.array([\n",
    "    [1, 2],\n",
    "    [4, 5]\n",
    "], 'int64')\n",
    "print(np.linalg.det(nums))"
   ]
  },
  {
   "cell_type": "code",
   "execution_count": 17,
   "id": "fce6eea5",
   "metadata": {},
   "outputs": [
    {
     "name": "stdout",
     "output_type": "stream",
     "text": [
      "[[-1.66666667  0.66666667]\n",
      " [ 1.33333333 -0.33333333]]\n",
      "[[1 4]\n",
      " [2 5]\n",
      " [3 6]]\n",
      "[[ 1  4  2  1]\n",
      " [ 9 13 61  3]\n",
      " [43 24 88 22]]\n",
      "[[ 1  2  3  4]\n",
      " [ 1  9 13 61]\n",
      " [22 24 43 88]]\n"
     ]
    }
   ],
   "source": [
    "# inverse -> square matrix -> 1/det(mat) * adjoint(matrix)\n",
    "# d -b\n",
    "# -c a\n",
    "nums = np.array([\n",
    "    [1, 2],\n",
    "    [4, 5]\n",
    "])\n",
    "print(np.linalg.inv(nums))\n",
    "\n",
    "# transpose\n",
    "nums = np.array([\n",
    "    [1, 2, 3],\n",
    "    [4, 5, 6]\n",
    "])\n",
    "print(np.transpose(nums))\n",
    "\n",
    "# sorting\n",
    "nums = np.array([\n",
    "    [1,4,2,3],\n",
    "    [9,13,61,1],\n",
    "    [43,24,88,22]\n",
    "])    \n",
    "print(np.sort(nums, axis=0))\n",
    "print(np.sort(nums, axis=1))"
   ]
  },
  {
   "cell_type": "code",
   "execution_count": 14,
   "id": "fb7e977d",
   "metadata": {},
   "outputs": [
    {
     "name": "stdout",
     "output_type": "stream",
     "text": [
      "[[ 1  2  3  4]\n",
      " [ 2  4  5  6]\n",
      " [10 20 39  3]]\n",
      "[2 4 6 8]\n",
      "[[ 3  6  9 12]\n",
      " [ 4  8 11 14]\n",
      " [12 24 45 11]]\n"
     ]
    }
   ],
   "source": [
    "# Broadcasting\n",
    "\n",
    "a = np.array([\n",
    "    [1,2,3,4],\n",
    "    [2,4,5,6],\n",
    "    [10,20,39,3]\n",
    "])  \n",
    "b = np.array([2,4,6,8])  \n",
    "print(a)  \n",
    "print(b)    \n",
    "print(a + b) "
   ]
  },
  {
   "cell_type": "code",
   "execution_count": 28,
   "id": "a3ba8dd4",
   "metadata": {},
   "outputs": [
    {
     "name": "stdout",
     "output_type": "stream",
     "text": [
      "5.0\n",
      "5.0\n",
      "5.0\n",
      "2.581988897471611\n",
      "6.666666666666667\n"
     ]
    }
   ],
   "source": [
    "# statistics\n",
    "nums = np.array([\n",
    "    [1,2,3],\n",
    "    [4,5,6],\n",
    "    [7,8,9]\n",
    "])\n",
    "\n",
    "print(np.mean(nums))\n",
    "print(np.median(nums))\n",
    "print(np.average(nums))\n",
    "# std deviation = sqrt(mean(abs(x - x.mean())**2))\n",
    "print(np.std(nums))\n",
    "#  variance = mean(abs(x - x.mean())**2)\n",
    "print(np.var(nums))"
   ]
  },
  {
   "cell_type": "code",
   "execution_count": 73,
   "id": "3c4a0f77",
   "metadata": {},
   "outputs": [
    {
     "name": "stdout",
     "output_type": "stream",
     "text": [
      "2792.0\n"
     ]
    }
   ],
   "source": [
    "# loading file\n",
    "values = np.genfromtxt('data.txt', delimiter=',')\n",
    "print(np.sum(values))"
   ]
  },
  {
   "cell_type": "code",
   "execution_count": null,
   "id": "f60b23d9",
   "metadata": {},
   "outputs": [],
   "source": []
  }
 ],
 "metadata": {
  "kernelspec": {
   "display_name": "Python 3 (ipykernel)",
   "language": "python",
   "name": "python3"
  },
  "language_info": {
   "codemirror_mode": {
    "name": "ipython",
    "version": 3
   },
   "file_extension": ".py",
   "mimetype": "text/x-python",
   "name": "python",
   "nbconvert_exporter": "python",
   "pygments_lexer": "ipython3",
   "version": "3.9.12"
  }
 },
 "nbformat": 4,
 "nbformat_minor": 5
}
